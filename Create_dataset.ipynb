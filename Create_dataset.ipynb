{
 "cells": [
  {
   "attachments": {},
   "cell_type": "markdown",
   "metadata": {},
   "source": [
    "# Create atomic files \n",
    "- User-item interactions\n",
    "    - Raw data (.csv) -> Atomic files (.inter)\n",
    "- Item features\n",
    "    - Raw data (.csv) -> Atomic files (.itememb)"
   ]
  },
  {
   "cell_type": "code",
   "execution_count": 1,
   "metadata": {},
   "outputs": [],
   "source": [
    "import pandas as pd\n",
    "import numpy as np\n",
    "import scipy.sparse as sp\n",
    "import yaml\n",
    "import os\n",
    "import glob\n",
    "import pickle\n",
    "from tqdm import tqdm"
   ]
  },
  {
   "cell_type": "code",
   "execution_count": 2,
   "metadata": {},
   "outputs": [
    {
     "data": {
      "text/plain": [
       "['./dataset/transactions\\\\azuki.csv',\n",
       " './dataset/transactions\\\\bayc.csv',\n",
       " './dataset/transactions\\\\coolcats.csv',\n",
       " './dataset/transactions\\\\doodles.csv',\n",
       " './dataset/transactions\\\\meebits.csv']"
      ]
     },
     "execution_count": 2,
     "metadata": {},
     "output_type": "execute_result"
    }
   ],
   "source": [
    "# Raw data .csv files \n",
    "files = glob.glob('./dataset/transactions/*.csv')\n",
    "files"
   ]
  },
  {
   "cell_type": "code",
   "execution_count": 3,
   "metadata": {},
   "outputs": [
    {
     "data": {
      "text/plain": [
       "['azuki', 'bayc', 'coolcats', 'doodles', 'meebits']"
      ]
     },
     "execution_count": 3,
     "metadata": {},
     "output_type": "execute_result"
    }
   ],
   "source": [
    "# Get names which is the one before '.csv'\n",
    "names = [os.path.basename(x).split('.')[0] for x in files]\n",
    "names"
   ]
  },
  {
   "cell_type": "markdown",
   "metadata": {},
   "source": [
    "## .inter"
   ]
  },
  {
   "cell_type": "code",
   "execution_count": 5,
   "metadata": {},
   "outputs": [
    {
     "name": "stderr",
     "output_type": "stream",
     "text": [
      "100%|██████████| 5/5 [00:00<00:00, 15.41it/s]\n"
     ]
    }
   ],
   "source": [
    "for name, file in zip(tqdm(names), files):\n",
    "\n",
    "    df_azuki = pd.read_csv(file)\n",
    "    # df_azuki = df_azuki.drop_duplicates(subset=['Buyer', 'Token ID'], keep='first') # drop duplicated interactions\n",
    "    user = df_azuki['Buyer'].values\n",
    "    item = df_azuki['Token ID'].values\n",
    "\n",
    "    save_path = './dataset/collections/' + name\n",
    "    if not os.path.exists(save_path):\n",
    "        os.makedirs(save_path)\n",
    "\n",
    "    f = open(save_path + f\"/{name}.inter\", 'w')\n",
    "    f.write(\"user_id:token\\titem_id:token\\n\")\n",
    "    for i in range(len(user)):\n",
    "        f.write(\"%s\\t%d\\n\"%(user[i], item[i]))\n",
    "    f.close()"
   ]
  },
  {
   "attachments": {},
   "cell_type": "markdown",
   "metadata": {},
   "source": [
    "## .itememb"
   ]
  },
  {
   "attachments": {},
   "cell_type": "markdown",
   "metadata": {},
   "source": [
    "### img, txt, price"
   ]
  },
  {
   "cell_type": "code",
   "execution_count": 11,
   "metadata": {},
   "outputs": [
    {
     "name": "stdout",
     "output_type": "stream",
     "text": [
      "Collection name:  azuki\n",
      "---  img\n",
      "before:  (10000, 65)\n",
      "after:  (8386, 65)\n"
     ]
    },
    {
     "name": "stderr",
     "output_type": "stream",
     "text": [
      "100%|██████████| 8386/8386 [00:03<00:00, 2247.58it/s]\n"
     ]
    },
    {
     "name": "stdout",
     "output_type": "stream",
     "text": [
      "---  txt\n",
      "before:  (10000, 1801)\n",
      "after:  (8386, 1801)\n"
     ]
    },
    {
     "name": "stderr",
     "output_type": "stream",
     "text": [
      "100%|██████████| 8386/8386 [01:14<00:00, 112.69it/s]\n"
     ]
    },
    {
     "name": "stdout",
     "output_type": "stream",
     "text": [
      "---  price\n",
      "before:  (8386, 2)\n",
      "after:  (8386, 2)\n"
     ]
    },
    {
     "name": "stderr",
     "output_type": "stream",
     "text": [
      "100%|██████████| 8386/8386 [00:01<00:00, 7565.44it/s]\n"
     ]
    },
    {
     "name": "stdout",
     "output_type": "stream",
     "text": [
      "Collection name:  bayc\n",
      "---  img\n",
      "before:  (9983, 65)\n",
      "after:  (4008, 65)\n"
     ]
    },
    {
     "name": "stderr",
     "output_type": "stream",
     "text": [
      "100%|██████████| 4008/4008 [00:01<00:00, 2337.21it/s]\n"
     ]
    },
    {
     "name": "stdout",
     "output_type": "stream",
     "text": [
      "---  txt\n",
      "before:  (10000, 1801)\n",
      "after:  (4025, 1801)\n"
     ]
    },
    {
     "name": "stderr",
     "output_type": "stream",
     "text": [
      "100%|██████████| 4025/4025 [00:35<00:00, 113.05it/s]\n"
     ]
    },
    {
     "name": "stdout",
     "output_type": "stream",
     "text": [
      "---  price\n",
      "before:  (4025, 2)\n",
      "after:  (4025, 2)\n"
     ]
    },
    {
     "name": "stderr",
     "output_type": "stream",
     "text": [
      "100%|██████████| 4025/4025 [00:00<00:00, 7607.53it/s]\n"
     ]
    },
    {
     "name": "stdout",
     "output_type": "stream",
     "text": [
      "Collection name:  coolcats\n",
      "---  img\n",
      "before:  (9952, 65)\n",
      "after:  (4908, 65)\n"
     ]
    },
    {
     "name": "stderr",
     "output_type": "stream",
     "text": [
      "100%|██████████| 4908/4908 [00:02<00:00, 2301.61it/s]\n"
     ]
    },
    {
     "name": "stdout",
     "output_type": "stream",
     "text": [
      "---  txt\n",
      "before:  (9941, 1501)\n",
      "after:  (4903, 1501)\n"
     ]
    },
    {
     "name": "stderr",
     "output_type": "stream",
     "text": [
      "100%|██████████| 4903/4903 [00:35<00:00, 139.25it/s]\n"
     ]
    },
    {
     "name": "stdout",
     "output_type": "stream",
     "text": [
      "---  price\n",
      "before:  (4908, 2)\n",
      "after:  (4908, 2)\n"
     ]
    },
    {
     "name": "stderr",
     "output_type": "stream",
     "text": [
      "100%|██████████| 4908/4908 [00:00<00:00, 7725.33it/s]\n"
     ]
    },
    {
     "name": "stdout",
     "output_type": "stream",
     "text": [
      "Collection name:  doodles\n",
      "---  img\n",
      "before:  (9999, 65)\n",
      "after:  (7738, 65)\n"
     ]
    },
    {
     "name": "stderr",
     "output_type": "stream",
     "text": [
      "100%|██████████| 7738/7738 [00:03<00:00, 2313.45it/s]\n"
     ]
    },
    {
     "name": "stdout",
     "output_type": "stream",
     "text": [
      "---  txt\n",
      "before:  (10000, 1501)\n",
      "after:  (7739, 1501)\n"
     ]
    },
    {
     "name": "stderr",
     "output_type": "stream",
     "text": [
      "100%|██████████| 7739/7739 [00:56<00:00, 136.27it/s]\n"
     ]
    },
    {
     "name": "stdout",
     "output_type": "stream",
     "text": [
      "---  price\n",
      "before:  (7642, 2)\n",
      "after:  (7642, 2)\n"
     ]
    },
    {
     "name": "stderr",
     "output_type": "stream",
     "text": [
      "100%|██████████| 7642/7642 [00:01<00:00, 7586.61it/s]\n"
     ]
    },
    {
     "name": "stdout",
     "output_type": "stream",
     "text": [
      "Collection name:  meebits\n",
      "---  img\n",
      "before:  (12306, 65)\n",
      "after:  (4942, 65)\n"
     ]
    },
    {
     "name": "stderr",
     "output_type": "stream",
     "text": [
      "100%|██████████| 4942/4942 [00:02<00:00, 2330.22it/s]\n"
     ]
    },
    {
     "name": "stdout",
     "output_type": "stream",
     "text": [
      "---  txt\n",
      "before:  (20000, 1801)\n",
      "after:  (5702, 1801)\n"
     ]
    },
    {
     "name": "stderr",
     "output_type": "stream",
     "text": [
      "100%|██████████| 5702/5702 [00:50<00:00, 112.40it/s]\n"
     ]
    },
    {
     "name": "stdout",
     "output_type": "stream",
     "text": [
      "---  price\n",
      "before:  (5702, 2)\n",
      "after:  (5702, 2)\n"
     ]
    },
    {
     "name": "stderr",
     "output_type": "stream",
     "text": [
      "100%|██████████| 5702/5702 [00:00<00:00, 7419.86it/s]\n"
     ]
    }
   ],
   "source": [
    "for name in names:\n",
    "    print('Collection name: ', name)\n",
    "    for attribute in ['img', 'txt', 'price']:\n",
    "        print('--- ', attribute)\n",
    "\n",
    "        # Get raw data file\n",
    "        file = pd.read_csv(f'./dataset/item_features/{name}_{attribute}.csv')\n",
    "        print('before: ', file.shape)\n",
    "        \n",
    "        # 우리가 가진 기간 내 interaction에 등장하는 아이템만 남기기\n",
    "        inter = pd.read_csv(f'./dataset/collections/{name}/{name}.inter', sep='\\t')\n",
    "        token_ids = inter['item_id:token'].unique()\n",
    "        file = file[file['token_id'].isin(token_ids)].reset_index(drop=True)\n",
    "        print('after: ', file.shape)\n",
    "\n",
    "        save_path = './dataset/collections/' + name\n",
    "        if not os.path.exists(save_path):\n",
    "            os.makedirs(save_path)\n",
    "        \n",
    "        f = open(save_path + f\"/{name}.itememb_{attribute}\", 'w')\n",
    "        f.write(f\"iid_{attribute}:token\" + '\\t' + f'item_emb_{attribute}:float_seq' + '\\n')\n",
    "        for i in tqdm(range(len(file))):\n",
    "            # get token_id\n",
    "            token_id = file['token_id'][i]\n",
    "            # get the rest of the features\n",
    "            features = file.iloc[i, 1:] # Series\n",
    "            # write\n",
    "            f.write(str(token_id) + '\\t')\n",
    "            for j in range(len(features)):\n",
    "                f.write(f\"{features[j].astype(np.float32)}\") \n",
    "                # if it is not the last iteration\n",
    "                if j != len(features) - 1:\n",
    "                    f.write(' ')\n",
    "            f.write('\\n')    \n",
    "\n",
    "        f.close()"
   ]
  }
 ],
 "metadata": {
  "kernelspec": {
   "display_name": "RecBole_2",
   "language": "python",
   "name": "python3"
  },
  "language_info": {
   "codemirror_mode": {
    "name": "ipython",
    "version": 3
   },
   "file_extension": ".py",
   "mimetype": "text/x-python",
   "name": "python",
   "nbconvert_exporter": "python",
   "pygments_lexer": "ipython3",
   "version": "3.7.16"
  },
  "orig_nbformat": 4,
  "vscode": {
   "interpreter": {
    "hash": "991fe3f9de00c9a422a5f66b8cc7243158afe66a42c9654a2fcf9d740859f175"
   }
  }
 },
 "nbformat": 4,
 "nbformat_minor": 2
}
